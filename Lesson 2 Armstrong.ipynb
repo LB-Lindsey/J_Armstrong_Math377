{
 "cells": [
  {
   "cell_type": "markdown",
   "metadata": {},
   "source": [
    "# Lesson 2 Questions\n",
    "\n",
    "## C2C Jordan Armstrong\n",
    "### Documentation Statement: None.\n",
    "\n",
    "\n",
    "1. Define data science. How do you think you will use Data Science in your career (after as a student or in the Air Force?)\n",
    "\n",
    "    Data science is the interdisciplinary field that uses various processes and practices in order to extract knowledge from different data sets. Data science is important in the Air Force for being able to take big data sets of inputs from our users and buyers then being able to analyze that data and get the crucial pieces of knowledge out of that data. Another example is the same principles apply in the acquisitions for when we have systems fail or that keep having deficiencies, you can analyze that data set of failures and find out more knowledge about what is causing the issues.\n",
    "    \n",
    "\n",
    "2. What are the three focus areas in this course?\n",
    "\n",
    "    -Exploration\n",
    "    \n",
    "    -Inference\n",
    "    \n",
    "    -Prediction\n",
    "    \n",
    "\n",
    "3. Install the datascience package (no Jupyter notebook input required).\n",
    "\n",
    "4. Do at least 3 basic calculations in three seperate boxes."
   ]
  },
  {
   "cell_type": "code",
   "execution_count": 1,
   "metadata": {},
   "outputs": [
    {
     "data": {
      "text/plain": [
       "10"
      ]
     },
     "execution_count": 1,
     "metadata": {},
     "output_type": "execute_result"
    }
   ],
   "source": [
    "2+3+5"
   ]
  },
  {
   "cell_type": "code",
   "execution_count": 2,
   "metadata": {},
   "outputs": [
    {
     "data": {
      "text/plain": [
       "3"
      ]
     },
     "execution_count": 2,
     "metadata": {},
     "output_type": "execute_result"
    }
   ],
   "source": [
    "10-5-2"
   ]
  },
  {
   "cell_type": "code",
   "execution_count": 3,
   "metadata": {},
   "outputs": [
    {
     "data": {
      "text/plain": [
       "540"
      ]
     },
     "execution_count": 3,
     "metadata": {},
     "output_type": "execute_result"
    }
   ],
   "source": [
    "5*9*4*3"
   ]
  },
  {
   "cell_type": "markdown",
   "metadata": {},
   "source": [
    "5. In another box, use python code to print your name followed by a \"thumbs up\" sign (you may need to do an internet search for Unicode thumbs up character).\n"
   ]
  },
  {
   "cell_type": "code",
   "execution_count": 6,
   "metadata": {},
   "outputs": [
    {
     "name": "stdout",
     "output_type": "stream",
     "text": [
      "Jordan L. Armstrong 👍\n"
     ]
    }
   ],
   "source": [
    "print('Jordan L. Armstrong \\U0001F44D')"
   ]
  },
  {
   "cell_type": "markdown",
   "metadata": {},
   "source": [
    "6. I read once that violent crime is signficantly associated with ice cream sales. That is , as ice cream sales increases, so does violent crime. Do high ice cream sales cause an increase in violent crime? Explain the relationship.\n",
    "   \n",
    "    There is a relationship that exists between violent crime and ice cream sales, however further exploration would be required to determine if this is a causual relationship. As the mantra of statistics, correlation does not prove causation. An association does not suffice to determine causation.\n",
    "   \n",
    "   \n",
    "7. What is the difference between an observational study and an experiment?\n",
    "\n",
    "    In an observational study, the person running the study is simply watching the participants. An observational study is all about not changing the environment or introducting any stimuli into the study. In an experiment, there would be at least two groups of people, one being the control, and one being where a singular variable is changed in order to see th effects of this variable on the given sample of participants."
   ]
  }
 ],
 "metadata": {
  "kernelspec": {
   "display_name": "Python 3",
   "language": "python",
   "name": "python3"
  },
  "language_info": {
   "codemirror_mode": {
    "name": "ipython",
    "version": 3
   },
   "file_extension": ".py",
   "mimetype": "text/x-python",
   "name": "python",
   "nbconvert_exporter": "python",
   "pygments_lexer": "ipython3",
   "version": "3.6.5"
  }
 },
 "nbformat": 4,
 "nbformat_minor": 2
}
