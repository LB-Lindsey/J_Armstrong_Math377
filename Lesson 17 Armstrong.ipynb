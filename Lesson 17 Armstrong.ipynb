{
 "cells": [
  {
   "cell_type": "code",
   "execution_count": 1,
   "metadata": {},
   "outputs": [],
   "source": [
    "from datascience import *\n",
    "import numpy as np\n",
    "from math import *"
   ]
  },
  {
   "cell_type": "markdown",
   "metadata": {},
   "source": [
    "## Transformations\n",
    "### C2C Jordan Armstrong\n",
    "#### Documentation: None."
   ]
  },
  {
   "cell_type": "markdown",
   "metadata": {},
   "source": [
    "In some cases, we may be interested in the distribution of a transformation of a random variable. For example, if we know the distribution of $X$, we may wish to know the distribution of $X^2$ or $2X$. \n",
    "\n",
    "It helps to consider the pmf/cdf of the original random variables. Let $Y=t(X)$ where $X$ is discrete:\n",
    "\n",
    "$$\n",
    "f_Y(y)=P(Y=y) = P(t(X)=y) = P( X = t^{-1}(y))\n",
    "$$\n",
    "\n",
    "In the continuous case, let's consider the cdf:\n",
    "\n",
    "$$\n",
    "F_Y(y)=P(Y\\leq y) = P(t(X)\\leq y) = P(X \\leq t^{-1}(y)) = F_X(t^{-1}(y))\n",
    "$$"
   ]
  },
  {
   "cell_type": "markdown",
   "metadata": {},
   "source": [
    "### Discrete"
   ]
  },
  {
   "cell_type": "markdown",
   "metadata": {},
   "source": [
    "#### Example 1\n",
    "\n",
    "Suppose the pmf for $X$ is given by the following table: \n",
    "\n",
    " | value of $X$  | -2 | -1 | 0 | 1 | 2 | \n",
    " | ------ | ------ | ----- | ----- | ----- | ----- |\n",
    " | probability | 0.05 | 0.10 | 0.35 | 0.30 | 0.20 |\n",
    "\n",
    "Find the distribution of $X^2$ and calculate $E(X^2)$. Does $E(X^2) = [E(X)]^2$? "
   ]
  },
  {
   "cell_type": "markdown",
   "metadata": {},
   "source": [
    " | value of $X^2$  | 0 | 1 | 4 | \n",
    " | ------ | ------ | ----- | ----- |\n",
    " | probability | 0.35| 0.40 | 0.25 |"
   ]
  },
  {
   "cell_type": "code",
   "execution_count": 2,
   "metadata": {},
   "outputs": [
    {
     "data": {
      "text/plain": [
       "1.4"
      ]
     },
     "execution_count": 2,
     "metadata": {},
     "output_type": "execute_result"
    }
   ],
   "source": [
    "E_xsquare=1*.4+4*.25\n",
    "E_xsquare"
   ]
  },
  {
   "cell_type": "markdown",
   "metadata": {},
   "source": [
    "No, $E(X^2) ≠ [E(X)]^2$"
   ]
  },
  {
   "cell_type": "markdown",
   "metadata": {},
   "source": [
    "#### Example 2\n",
    "Let $X \\sim \\textsf{Binom}(n,p)$. What is the pmf for $X+3$? Make sure you specify the domain of $X+3$. "
   ]
  },
  {
   "cell_type": "markdown",
   "metadata": {},
   "source": [
    "$X \\sim \\textsf{Binom}(n,p),   x=0,1,2,...,n$.\n",
    "\n",
    "$y=X+3$\n",
    "\n",
    "$f_y(y)=P(Y=y)=P(X+3=y)=P(X=y-3)=f_x(y-3)$\n",
    "\n",
    "The pmf for a binomial distribution is $$f_x(x) = {n\\choose x}p^{x}(1-p)^{n-x}$$\n",
    "\n",
    "Thus, $$f_y(y)={n\\choose y-3}p^{y-3}(1-p)^{n-y+3}$$\n",
    "\n",
    "The possible values of y:\n",
    "\n",
    "$y=3,4,5,...,n+3$"
   ]
  },
  {
   "cell_type": "markdown",
   "metadata": {},
   "source": [
    "#### Example 3\n",
    "\n",
    "Let $X \\sim \\textsf{Unif}(0,1)$. Let $Y=X^2$. Find the **pdf** of $Y$. Again, specify the domain of $Y$. "
   ]
  },
  {
   "cell_type": "markdown",
   "metadata": {},
   "source": [
    "$$\n",
    "f_x(x) = \\left\\{ \\begin{array}{lr} 1, & 0\\leq x \\leq 1 \\\\ 0, & \\mbox{o/w} \\end{array} \\right.\n",
    "$$\n",
    "\n",
    "$$\n",
    "F_x(x)=P(X\\leq x)= \\int_{0}^{x} 1 dz= z\\bigg |_{0}^{x}=x\n",
    "$$\n",
    "\n",
    "$$\n",
    "F_y(y)=P(Y\\leq y)=P(X^2\\leq y)=P(X \\leq \\sqrt{y})=F_x(\\sqrt{y})\n",
    "$$\n",
    "\n",
    "$$\n",
    "f_y(y)=\\frac{d}{dy} \\sqrt{y}= \\frac{1}{2\\sqrt{y}}, 0\\leq y \\leq 1\n",
    "$$\n"
   ]
  },
  {
   "cell_type": "markdown",
   "metadata": {},
   "source": [
    "## Moment Generating Functions (MGF)"
   ]
  },
  {
   "cell_type": "markdown",
   "metadata": {},
   "source": [
    "One powerful concept in probability is the moment generating function (mgf). Let $X$ be a random variable. The mgf of $X$ is denoted by $M_X(t)$. This function is powerful because it can be used as a shortcut to find the $k$th central moment. Specifically,\n",
    "\n",
    "$$\n",
    "E(X^k) = \\frac{d^k}{dt^k} M_X(t) \\bigg |_{t=0}\n",
    "$$\n",
    "\n",
    "If you know the moment generating function of $X$, you can simply take the derivative of it with respect to $t$, evaluate at $t=0$ and the result is the expected value of $X$, $E(X)$. \n",
    "\n",
    "The mgf of $X$ is found by\n",
    "\n",
    "$$\n",
    "M_X(t) = E(e^{tX})\n",
    "$$\n",
    "\n",
    "#### Example 4: \n",
    "\n",
    "Let $X$ be a random variable with the exponential distribution with parameter $\\lambda >0$. Recall that $f_X(x) = \\lambda e^{-\\lambda x}$, for $x>0$. Find the mgf of $X$. Use it to verify that $E(X) = \\frac{1}{\\lambda}$. \n",
    "\n"
   ]
  },
  {
   "cell_type": "markdown",
   "metadata": {},
   "source": [
    "$$\n",
    "M_x(t)=E(e^{tx})=\\int_{-\\infty}^{\\infty}e^{tx}f_X(x)dx=\\int_{0}^{\\infty}e^{tx}e^{-\\lambda x}dx=\\lambda \\int_{0}^{\\infty}e^{(t-\\lambda)x}dx=\\lambda [\\frac{1}{t-\\lambda} e^{(t-\\lambda)x}]\\bigg |_{0}^{\\infty}=\\frac{\\lambda}{\\lambda-t}\n",
    "$$\n",
    "\n",
    "$$\n",
    "E(X)=\\frac{d}{dt}M_x(t) \\bigg|_{t=0}=\\frac{d}{dt}(\\frac{\\lambda}{\\lambda-t}) \\bigg|_{t=0}=\\frac{\\lambda}{(\\lambda-t)^2}\\bigg|_{t=0}=\\frac{\\lambda}{\\lambda^2}=\\frac{1}{\\lambda}\n",
    "$$"
   ]
  },
  {
   "cell_type": "markdown",
   "metadata": {},
   "source": [
    "#### Example 5:\n",
    "\n",
    "The moment generating function of a random variable with the binomial distribution (with parameters $n$ and $p$) is given by $M_X(t) = (pe^t + 1 - p)^n$. Use the mgf to verify that $E(X)=np$ and $V(X)=np(1-p)$. Note that $V(X)=E(X^2)-[E(X)]^2$. "
   ]
  },
  {
   "cell_type": "markdown",
   "metadata": {},
   "source": [
    "$$\n",
    "E(X)=\\frac{d}{dt}M_x(t) \\bigg|_{t=0}=\\frac{d}{dt}((pe^t + 1 - p)^n) \\bigg|_{t=0}=n(pe^{t}+1-p)^{n-1}pe^{t} \\bigg|_{t=0}=np\n",
    "$$\n",
    "\n",
    "$$\n",
    "E(X^2)=\\frac{d^2}{dt^2}M_x(t) \\bigg|_{t=0}=\\frac{d}{dt}n(pe^{t}+1-p)^{n-1}pe^{t}  \\bigg|_{t=0}=n(n-1)(pe^{t}+(1-p))^{n-2}p^2e^{2t}+n(pe^t+(1-p))^{n-1}pe^t \\bigg|_{t=0}=n(n-1)p^2+np\n",
    "$$\n",
    "\n",
    "$$\n",
    "[E(X)]^2=(np)^2\n",
    "$$\n",
    "\n",
    "$$\n",
    "V(X)=E(X^2)-[E(X)]^2=n(n-1)p^2+np-(np)^2=n^2p^2-np^2+np-n^2p^2=-np^2+np=np(-p+1)=np(1-p)\n",
    "$$"
   ]
  },
  {
   "cell_type": "markdown",
   "metadata": {},
   "source": [
    "### Important Results\n",
    "\n",
    "1) Let $X$ and $Y$ be random variables with mgfs $M_X$ and $M_Y$. $X$ and $Y$ are said to be identically distributed if and only if $M_X(t) = M_Y(t)$ for all $t$ in some interval containing 0. \n",
    "\n",
    "2) MGF of linear transformation of random variable: If $a$ and $b$ are constants, then \n",
    "\n",
    "$$\n",
    "M_{aX+b}(t) = e^{bt}M_X(at)\n",
    "$$\n",
    "\n",
    "3) MGF of sum of independent random variables: If $X$ and $Y$ are independent random variables with mgfs $M_X$ and $M_Y$, then\n",
    "\n",
    "$$\n",
    "M_{X+Y}(t)=M_X(t) \\cdot M_Y(t)\n",
    "$$\n",
    "\n",
    " "
   ]
  },
  {
   "cell_type": "markdown",
   "metadata": {},
   "source": [
    "#### Example 6 \n",
    "\n",
    "Let $X \\sim \\textsf{Exp}(\\lambda)$. Find the distribution of $Y=3X$."
   ]
  },
  {
   "cell_type": "markdown",
   "metadata": {},
   "source": [
    "$$\n",
    "f_x(x) = \\left\\{ \\begin{array}{lr} \\lambda e^{-\\lambda x}, & 0< x \\\\ 0, & \\mbox{o/w} \\end{array} \\right.\n",
    "$$\n",
    "\n",
    "$$\n",
    "F_x(x)=P(X\\leq x)= \\int_{0}^{x} \\lambda e^{-\\lambda x} dz= z\\lambda e^{-\\lambda x}\\bigg |_{0}^{x}=x\\lambda e^{-\\lambda x}\n",
    "$$\n",
    "\n",
    "$$\n",
    "F_y(y)=P(Y \\leq y)=P(3X \\leq y)=P(X \\leq \\frac{y}{3})=F_x({\\frac{y}{3}})\n",
    "$$\n",
    "\n",
    "$$\n",
    "f_y(y)=\\frac{d}{dy}( \\frac{y}{3}\\lambda e^{\\frac{-\\lambda y}{3}})=( \\frac{1}{3}\\lambda e^{\\frac{-\\lambda y}{3}})-( \\frac{y}{3}*\\frac{-\\lambda}{3} )\\lambda e^{\\frac{-\\lambda y}{3}}=( \\frac{1}{3}\\lambda e^{\\frac{-\\lambda y}{3}})(1+\\frac{y\\lambda}{3}), y>0\n",
    "$$\n",
    "\n",
    "\n"
   ]
  },
  {
   "cell_type": "markdown",
   "metadata": {},
   "source": [
    "#### Example 7 \n",
    "\n",
    "Suppose $X_1, X_2, ..., X_n$ are independent identically distributed $\\textsf{Norm}(\\mu,\\sigma)$. Find the distribution of $S=X_1+X_2+...+X_n$ and $\\bar{X} = \\frac{X_1+X_2+...+X_n}{n}$. Note that the mgf of a normally distributed random variable is $M_X(t)=e^{\\mu t+\\sigma^2 t^2/2}$."
   ]
  },
  {
   "cell_type": "markdown",
   "metadata": {},
   "source": [
    "$$\n",
    "S=\\sum_{i=1}^n X_i\n",
    "$$\n",
    "\n",
    "Since each of the X terms are identically the mean $\\mu$ for $S$ will be $n\\mu$. To transform the standard deviation $\\sigma$, we must get the variance which is $\\sigma^2$, therefore the variance for $S$ is $n\\sigma^2$ and the standard deviation is $\\sqrt{n\\sigma^2}$.\n",
    "\n",
    "$S\\sim \\textsf{Norm}(n\\mu, \\sqrt{n\\sigma^2})$"
   ]
  },
  {
   "cell_type": "markdown",
   "metadata": {},
   "source": [
    "$$\n",
    "\\bar{X}=\\frac{\\sum_{i=1}^n X_i}{n}=\\frac{S}{n}\n",
    "$$"
   ]
  },
  {
   "cell_type": "markdown",
   "metadata": {},
   "source": [
    "Since $\\bar{X}=\\frac{S}{n}$, the the mean of $S$ is $n\\mu$ then the mean of $\\bar{X}$ is $\\frac{n\\mu}{n}=\\mu$. Since the variance of $S$ is $n\\sigma^2$, then the variance of $\\bar{X}=\\frac {\\sigma}{n}$. Thus the standard deviation for $\\bar{X}$ is $\\frac{\\sigma}{\\sqrt{n}}$.\n",
    "$$\n",
    "\\bar{X} \\sim \\textsf{Norm}(\\mu, \\frac {\\sigma}{\\sqrt{n}})\n",
    "$$"
   ]
  },
  {
   "cell_type": "code",
   "execution_count": null,
   "metadata": {},
   "outputs": [],
   "source": []
  }
 ],
 "metadata": {
  "kernelspec": {
   "display_name": "Python 3",
   "language": "python",
   "name": "python3"
  },
  "language_info": {
   "codemirror_mode": {
    "name": "ipython",
    "version": 3
   },
   "file_extension": ".py",
   "mimetype": "text/x-python",
   "name": "python",
   "nbconvert_exporter": "python",
   "pygments_lexer": "ipython3",
   "version": "3.6.5"
  }
 },
 "nbformat": 4,
 "nbformat_minor": 2
}
