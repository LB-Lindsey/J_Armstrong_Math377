{
 "cells": [
  {
   "cell_type": "markdown",
   "metadata": {},
   "source": [
    "# Lesson 4 Practical Application\n",
    "## C2C Jordan Armstrong\n",
    "### Documentation: None"
   ]
  },
  {
   "cell_type": "markdown",
   "metadata": {},
   "source": [
    "Question 1: Create 3 variables for name (first and last), age and hometown. Assign to these variables your own name, age and hometown. Now, recreate the following sentence using variable assignment and the 'print' command in Python:\n",
    "\n",
    "    \"I am <Your name here>. I am <age> old. I'm from <hometown>.\"\n",
    "    "
   ]
  },
  {
   "cell_type": "code",
   "execution_count": 56,
   "metadata": {},
   "outputs": [
    {
     "name": "stdout",
     "output_type": "stream",
     "text": [
      "I am Jordan Armstrong. I am 20 years old. I'm from Orlando, FL.\n"
     ]
    }
   ],
   "source": [
    "name=\"Jordan Armstrong\"\n",
    "age=20\n",
    "hometown=\"Orlando, FL\"\n",
    "Words=\"I am \" + name + \". I am \" + str(age) + \" years old. I'm from \" + hometown + \".\"\n",
    "print(Words)"
   ]
  },
  {
   "cell_type": "markdown",
   "metadata": {},
   "source": [
    "Part a: Now, use a string method to make your name lower case. Print the all lower case version of your name."
   ]
  },
  {
   "cell_type": "code",
   "execution_count": 57,
   "metadata": {},
   "outputs": [
    {
     "name": "stdout",
     "output_type": "stream",
     "text": [
      "jordan armstrong\n"
     ]
    }
   ],
   "source": [
    "name_lower=name.lower()\n",
    "print(name_lower)"
   ]
  },
  {
   "cell_type": "markdown",
   "metadata": {},
   "source": [
    "Part b: Now use a string method to make your full name a proper noun. Print this version of your name."
   ]
  },
  {
   "cell_type": "code",
   "execution_count": 58,
   "metadata": {},
   "outputs": [
    {
     "name": "stdout",
     "output_type": "stream",
     "text": [
      "Jordan Armstrong\n"
     ]
    }
   ],
   "source": [
    "name_proper=name.title()\n",
    "print(name_proper)"
   ]
  },
  {
   "cell_type": "markdown",
   "metadata": {},
   "source": [
    "Question 2: Using the 'replace' method, replace all \"I am\" with \"he is\" or \"she is\" and all \"I'm\" with \"he's\" or \"she's\"."
   ]
  },
  {
   "cell_type": "code",
   "execution_count": 59,
   "metadata": {},
   "outputs": [
    {
     "name": "stdout",
     "output_type": "stream",
     "text": [
      "he is Jordan Armstrong. he is 20 years old. he's from Orlando, FL.\n"
     ]
    }
   ],
   "source": [
    "One=Words.replace(\"I am\",\"he is\")\n",
    "One=One.replace(\"I'm\",\"he's\")\n",
    "print(One)"
   ]
  },
  {
   "cell_type": "markdown",
   "metadata": {},
   "source": [
    "Question 3: Return a boolean response indicating whether the length of your original sentence (in #1) is greater than your age plus 40."
   ]
  },
  {
   "cell_type": "code",
   "execution_count": 60,
   "metadata": {},
   "outputs": [
    {
     "name": "stdout",
     "output_type": "stream",
     "text": [
      "True\n"
     ]
    }
   ],
   "source": [
    "length=len(words)\n",
    "\n",
    "if age+40 < length:\n",
    "    value=True\n",
    "else:\n",
    "    value=False\n",
    "\n",
    "print(value)"
   ]
  }
 ],
 "metadata": {
  "kernelspec": {
   "display_name": "Python 3",
   "language": "python",
   "name": "python3"
  },
  "language_info": {
   "codemirror_mode": {
    "name": "ipython",
    "version": 3
   },
   "file_extension": ".py",
   "mimetype": "text/x-python",
   "name": "python",
   "nbconvert_exporter": "python",
   "pygments_lexer": "ipython3",
   "version": "3.6.5"
  }
 },
 "nbformat": 4,
 "nbformat_minor": 2
}
